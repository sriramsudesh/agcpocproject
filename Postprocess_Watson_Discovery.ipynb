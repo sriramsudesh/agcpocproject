{
    "cells": [
        {
            "cell_type": "markdown",
            "metadata": {},
            "source": "## Credentials of the Data Asset"
        },
        {
            "cell_type": "code",
            "execution_count": 1,
            "metadata": {},
            "outputs": [],
            "source": "credentials_6 = {\n    'IAM_SERVICE_ID': 'iam-ServiceId-0c9024d2-deba-4c58-9848-94ad54f41312',\n    'IBM_API_KEY_ID': 'ZCw4mPNPhOmn2GpUI0FD59WfQuyCFwQMmusbgjVSpTeF',\n    'ENDPOINT': 'https://s3-api.us-geo.objectstorage.service.networklayer.com',\n    'IBM_AUTH_ENDPOINT': 'https://iam.cloud.ibm.com/oidc/token',\n    'BUCKET': 'agcwatsonstudioproject-donotdelete-pr-oahdwlxwjnxxjn',\n    'FILE': 'new_520_questions'\n}\n"
        },
        {
            "cell_type": "markdown",
            "metadata": {},
            "source": "# WATSON DISCOVERY PIPELINE"
        },
        {
            "cell_type": "markdown",
            "metadata": {},
            "source": "## Entity Retrieval Class"
        },
        {
            "cell_type": "code",
            "execution_count": 2,
            "metadata": {},
            "outputs": [],
            "source": "import json\nfrom ibm_botocore.client import Config\nimport ibm_boto3\nfrom collections import defaultdict\n\n\nclass EntityRetrieval(object):\n\n    def __init__(self,credentials):\n        self.credentials = credentials\n        self.filename = credentials['FILE']\n        self.local_file_name = credentials['FILE']\n        self.key = credentials['FILE']\n        self.local_name = credentials['local_name']\n\n    def upload_file_cos(self):\n        cos = ibm_boto3.client(service_name='s3',\n                               ibm_api_key_id=self.credentials['IBM_API_KEY_ID'],\n                               ibm_service_instance_id=self.credentials['IAM_SERVICE_ID'],\n                               ibm_auth_endpoint=self.credentials['IBM_AUTH_ENDPOINT'],\n                               config=Config(signature_version='oauth'),\n                               endpoint_url=self.credentials['ENDPOINT'])\n        try:\n            res = cos.upload_file(Filename=self.local_name, Bucket=self.credentials['BUCKET'], Key=self.local_name)\n        except Exception as e:\n            print(Exception, e)\n        else:\n            print('File Uploaded to Cloud Object Storage')\n\n    def download_file_cos(self):\n        cos = ibm_boto3.client(service_name='s3',\n                               ibm_api_key_id=self.credentials['IBM_API_KEY_ID'],\n                               ibm_service_instance_id=self.credentials['IAM_SERVICE_ID'],\n                               ibm_auth_endpoint=self.credentials['IBM_AUTH_ENDPOINT'],\n                               config=Config(signature_version='oauth'),\n                               endpoint_url=self.credentials['ENDPOINT'])\n        try:\n            res = cos.download_file(Bucket=self.credentials['BUCKET'], Key=self.key, Filename=self.local_file_name)\n        except Exception as e:\n            print(Exception, e)\n        else:\n            print('File Downloaded from Cloud Object Storage')\n\n    def clean_json_encoding(self):\n        #Download the data\n        self.download_file_cos()\n        \n        with open(self.local_file_name, 'r') as f:\n            s = f.read()\n            s = s.replace('\\t', '')\n            s = s.replace('\\n', '')\n            s = s.replace(',}', '}')\n            s = s.replace(',]', ']')\n            data = json.loads(s)\n            return data\n\n\n    def retreive_entity(self,response=[],nlu=False):\n        entity_raw_list = []\n        if nlu:\n            print(\"Executing from Response\")\n            results = response\n            for i,each in enumerate(results):\n                entity_raw_list.append(results[i]['entities'])\n            \n        else:\n            data = self.clean_json_encoding()\n            # print(data.keys())\n            for key, value in data.items():\n                if key == \"results\":\n                    results = data[key]\n                    for i,each in enumerate(results):\n                        entity_raw_list.append(results[i]['enriched_text']['entities'])\n            \n \n        return entity_raw_list\n\n\n    def get_entity_dict(self,response=[],nlu=False):\n        raw_list = self.retreive_entity(response,nlu)\n        result_dict = {}\n        for i, element in enumerate(raw_list):\n            sub_dict= defaultdict(list)\n            for j, each in enumerate(element):\n                sub_dict.setdefault(each['type'], []).append(each['text'])\n            result_dict[i] = sub_dict\n\n        return result_dict\n"
        },
        {
            "cell_type": "code",
            "execution_count": null,
            "metadata": {},
            "outputs": [],
            "source": "import os\nfrom multiprocessing import Process\nfrom multiprocessing import Pool, Queue\nfrom time import sleep\n\nclass EntityExtractorNLU(EntityRetrieval):\n    \n    q = Queue()\n    \n    def __init__(self, credentials,apikey,modelid,url):\n        super().__init__(credentials)\n        self.apikey = apikey\n        self.modelid = modelid\n        self.url = url\n        \n    def read_from_zip(self):\n        with ZipFile(self.filename, 'r') as file:\n            file.extractall()\n            print('Done Extracting all the files')\n        os.remove(self.filename)     \n    \n    def get_entity_response_nlu(self,data):\n        authenticator = IAMAuthenticator(self.apikey)\n        natural_language_understanding = NaturalLanguageUnderstandingV1(version='2019-07-12',\n                                                                    authenticator=authenticator)\n        natural_language_understanding.set_service_url(self.url)\n        response = natural_language_understanding.analyze(text=data, \n                                                          features=Features(entities=EntitiesOptions(model=self.modelid))).get_result()\n        return response\n    \n    \n        \n    def get_entity_response_nlu_parallel(self,file,q):\n        if not file.startswith(\"._\"):\n            with open(file,'r')as f:\n                data = f.read()\n        \n        authenticator = IAMAuthenticator(self.apikey)\n        natural_language_understanding = NaturalLanguageUnderstandingV1(version='2019-07-12',\n                                                                    authenticator=authenticator)\n        natural_language_understanding.set_service_url(self.url)\n        response = natural_language_understanding.analyze(text=data, \n                                                          features=Features(entities=EntitiesOptions(model=self.modelid))).get_result()\n        q.put(result_dict)        \n        q.put(\"/t\")\n    \n    \n    \n    def parallel_read(self):\n        processes = []\n        responses =[]\n        for root,dirs,files in os.walk(\".\"):\n            for file in files:\n                print(\"Process Started\")\n                p = Process(target=get_entity_response_nlu_parallel, args=(file,q))\n                processes.append(p)\n                p.start()\n        for t in processes:\n            t.join()\n    \n    \n    def sequential_read(self):\n        responses = []\n        #self.read_from_zip()\n        for root,dirs,files in os.walk(\".\"):\n            for file in files:\n                try:\n                    if not file.startswith(\"._\"):\n                        with open(file,'r')as f:\n                            data = f.read()\n                            #data = data.encode('utf-8').strip()\n                            responses.append(self.get_entity_response_nlu(data))\n                except Exception as e:\n                    print(\"Inner Exception\")\n                    #print(file,e)\n        return responses"
        },
        {
            "cell_type": "markdown",
            "metadata": {},
            "source": "## Supply the CREDENTIALS of the file to be run.\n##                                    &\n## Supply the Filename of the CSV file to be added as data asset"
        },
        {
            "cell_type": "code",
            "execution_count": 3,
            "metadata": {},
            "outputs": [],
            "source": "# import pandas as pd\n# credentials_6['local_name'] ='520_refined.csv'\n# entity_extractor = EntityRetrieval(credentials_6)\n"
        },
        {
            "cell_type": "markdown",
            "metadata": {},
            "source": "## Analyse the Format as Dataframe"
        },
        {
            "cell_type": "code",
            "execution_count": 4,
            "metadata": {},
            "outputs": [],
            "source": "# result_dict = entity_extractor.get_entity_dict()\n# df = pd.DataFrame.from_dict(result_dict)\n# df= df.transpose()\n# columns = list(df.columns)\n# columns = [each.upper() for each in columns]\n# df.columns = columns\n# df.head()"
        },
        {
            "cell_type": "markdown",
            "metadata": {},
            "source": "## Save the file in Cloud Object Storage"
        },
        {
            "cell_type": "code",
            "execution_count": 5,
            "metadata": {},
            "outputs": [],
            "source": "# df.to_csv(\"520_refined.csv\",index=False)\n# entity_extractor.upload_file_cos()"
        },
        {
            "cell_type": "markdown",
            "metadata": {},
            "source": "# NLU PIPELINE"
        },
        {
            "cell_type": "code",
            "execution_count": 6,
            "metadata": {},
            "outputs": [
                {
                    "name": "stdout",
                    "output_type": "stream",
                    "text": "Collecting ibm_watson\n\u001b[?25l  Downloading https://files.pythonhosted.org/packages/a2/3c/c2cfb41db546fe98820e89017c892d73991cef61b9c48680191fe703a214/ibm-watson-4.7.1.tar.gz (385kB)\n\u001b[K     |\u2588\u2588\u2588\u2588\u2588\u2588\u2588\u2588\u2588\u2588\u2588\u2588\u2588\u2588\u2588\u2588\u2588\u2588\u2588\u2588\u2588\u2588\u2588\u2588\u2588\u2588\u2588\u2588\u2588\u2588\u2588\u2588| 389kB 9.8MB/s eta 0:00:01\n\u001b[?25hRequirement already satisfied: requests<3.0,>=2.0 in /opt/conda/envs/Python36/lib/python3.6/site-packages (from ibm_watson) (2.21.0)\nRequirement already satisfied: python_dateutil>=2.5.3 in /opt/conda/envs/Python36/lib/python3.6/site-packages (from ibm_watson) (2.7.5)\nCollecting websocket-client==0.48.0 (from ibm_watson)\n\u001b[?25l  Downloading https://files.pythonhosted.org/packages/8a/a1/72ef9aa26cfe1a75cee09fc1957e4723add9de098c15719416a1ee89386b/websocket_client-0.48.0-py2.py3-none-any.whl (198kB)\n\u001b[K     |\u2588\u2588\u2588\u2588\u2588\u2588\u2588\u2588\u2588\u2588\u2588\u2588\u2588\u2588\u2588\u2588\u2588\u2588\u2588\u2588\u2588\u2588\u2588\u2588\u2588\u2588\u2588\u2588\u2588\u2588\u2588\u2588| 204kB 31.5MB/s eta 0:00:01\n\u001b[?25hCollecting ibm_cloud_sdk_core==1.7.3 (from ibm_watson)\n  Downloading https://files.pythonhosted.org/packages/b7/23/aa9ae242f6348a1ed28fca2e6d3e76e043c3db951f9b516e1992518fe2c3/ibm-cloud-sdk-core-1.7.3.tar.gz\nRequirement already satisfied: certifi>=2017.4.17 in /opt/conda/envs/Python36/lib/python3.6/site-packages (from requests<3.0,>=2.0->ibm_watson) (2020.6.20)\nRequirement already satisfied: urllib3<1.25,>=1.21.1 in /opt/conda/envs/Python36/lib/python3.6/site-packages (from requests<3.0,>=2.0->ibm_watson) (1.24.1)\nRequirement already satisfied: chardet<3.1.0,>=3.0.2 in /opt/conda/envs/Python36/lib/python3.6/site-packages (from requests<3.0,>=2.0->ibm_watson) (3.0.4)\nRequirement already satisfied: idna<2.9,>=2.5 in /opt/conda/envs/Python36/lib/python3.6/site-packages (from requests<3.0,>=2.0->ibm_watson) (2.8)\nRequirement already satisfied: six>=1.5 in /opt/conda/envs/Python36/lib/python3.6/site-packages (from python_dateutil>=2.5.3->ibm_watson) (1.12.0)\nCollecting PyJWT>=1.7.1 (from ibm_cloud_sdk_core==1.7.3->ibm_watson)\n  Downloading https://files.pythonhosted.org/packages/87/8b/6a9f14b5f781697e51259d81657e6048fd31a113229cf346880bb7545565/PyJWT-1.7.1-py2.py3-none-any.whl\nBuilding wheels for collected packages: ibm-watson, ibm-cloud-sdk-core\n  Building wheel for ibm-watson (setup.py) ... \u001b[?25ldone\n\u001b[?25h  Stored in directory: /home/dsxuser/.cache/pip/wheels/6e/14/69/dbbd573a3bab3bf64984572284f13f174f430038308abdd73c\n  Building wheel for ibm-cloud-sdk-core (setup.py) ... \u001b[?25ldone\n\u001b[?25h  Stored in directory: /home/dsxuser/.cache/pip/wheels/34/6e/58/589e0f841c2fae9dad99630d78ddc7a60c5c7663a16a39cdbb\nSuccessfully built ibm-watson ibm-cloud-sdk-core\nInstalling collected packages: websocket-client, PyJWT, ibm-cloud-sdk-core, ibm-watson\n\u001b[33m  WARNING: The script pyjwt is installed in '/home/dsxuser/.local/bin' which is not on PATH.\n  Consider adding this directory to PATH or, if you prefer to suppress this warning, use --no-warn-script-location.\u001b[0m\nSuccessfully installed PyJWT-1.7.1 ibm-cloud-sdk-core-1.7.3 ibm-watson-4.7.1 websocket-client-0.48.0\n"
                }
            ],
            "source": "!pip install --user ibm_watson"
        },
        {
            "cell_type": "code",
            "execution_count": 7,
            "metadata": {},
            "outputs": [],
            "source": "import json\nimport csv\nimport psycopg2\nfrom zipfile import ZipFile\nfrom ibm_watson import NaturalLanguageUnderstandingV1\nfrom ibm_cloud_sdk_core.authenticators import IAMAuthenticator\nfrom ibm_watson.natural_language_understanding_v1 import Features, EntitiesOptions\n\n# extract all entities\nimport os, pandas as pd\n#import librosa\nimport codecs\nfrom pandas.io.json import json_normalize\nimport json\nimport csv\nimport psycopg2\nfrom ibm_watson import NaturalLanguageUnderstandingV1\nfrom ibm_cloud_sdk_core.authenticators import IAMAuthenticator\nfrom ibm_watson.natural_language_understanding_v1 import Features, EntitiesOptions"
        },
        {
            "cell_type": "code",
            "execution_count": 8,
            "metadata": {},
            "outputs": [],
            "source": "# The code was removed by Watson Studio for sharing."
        },
        {
            "cell_type": "code",
            "execution_count": 9,
            "metadata": {},
            "outputs": [],
            "source": "import os\nfrom multiprocessing import Process\nfrom multiprocessing import Pool, Queue\nfrom time import sleep\n\nclass EntityExtractorNLU(EntityRetrieval):\n    \n    q = Queue()\n    \n    def __init__(self, credentials,apikey,modelid,url):\n        super().__init__(credentials)\n        self.apikey = apikey\n        self.modelid = modelid\n        self.url = url\n        \n    def read_from_zip(self):\n        with ZipFile(self.filename, 'r') as file:\n            file.extractall()\n            print('Done Extracting all the files')\n        os.remove(self.filename)     \n    \n    def get_entity_response_nlu(self,data):\n        authenticator = IAMAuthenticator(self.apikey)\n        natural_language_understanding = NaturalLanguageUnderstandingV1(version='2019-07-12',\n                                                                    authenticator=authenticator)\n        natural_language_understanding.set_service_url(self.url)\n        response = natural_language_understanding.analyze(text=data, \n                                                          features=Features(entities=EntitiesOptions(model=self.modelid))).get_result()\n        return response\n    \n    \n        \n    def get_entity_response_nlu_parallel(self,file,q):\n        if not file.startswith(\"._\"):\n            with open(file,'r')as f:\n                data = f.read()\n        \n        authenticator = IAMAuthenticator(self.apikey)\n        natural_language_understanding = NaturalLanguageUnderstandingV1(version='2019-07-12',\n                                                                    authenticator=authenticator)\n        natural_language_understanding.set_service_url(self.url)\n        response = natural_language_understanding.analyze(text=data, \n                                                          features=Features(entities=EntitiesOptions(model=self.modelid))).get_result()\n        q.put(result_dict)        \n        q.put(\"/t\")\n    \n    \n    \n    def parallel_read(self):\n        processes = []\n        responses =[]\n        for root,dirs,files in os.walk(\".\"):\n            for file in files:\n                print(\"Process Started\")\n                p = Process(target=get_entity_response_nlu_parallel, args=(file,q))\n                processes.append(p)\n                p.start()\n        for t in processes:\n            t.join()\n    \n    \n    def sequential_read(self):\n        responses = []\n        #self.read_from_zip()\n        for root,dirs,files in os.walk(\".\"):\n            for file in files:\n                try:\n                    if not file.startswith(\"._\"):\n                        with open(file,'r')as f:\n                            data = f.read()\n                            #data = data.encode('utf-8').strip()\n                            responses.append(self.get_entity_response_nlu(data))\n                except Exception as e:\n                    print(\"Inner Exception\")\n                    #print(file,e)\n        return responses\n    \n    \n        \n \n    \n    "
        },
        {
            "cell_type": "code",
            "execution_count": 10,
            "metadata": {},
            "outputs": [],
            "source": "!rm -rf *.txt new_520_questions __MACOSX *.zip *.csv\n!ls"
        },
        {
            "cell_type": "code",
            "execution_count": 11,
            "metadata": {},
            "outputs": [],
            "source": "#apikey=\"KsR5UQVyfNVoMv_L22Eb5wIN1uC_skrlnS1g-FZFrHah\"\n#url=\"https://api.us-south.natural-language-understanding.watson.cloud.ibm.com/instances/102041c7-61e3-4db8-95f7-58e897a6fb90\"\n#modelid=\"502a373e-279a-44fa-978b-d2a15d8e3033\"\n#modelid=\"bb5c168e-5419-4a9d-a21d-2cd6f09d02d6\"\n\n## Rule Based Model\n\ncred_dict = {'Rule':{'apikey':\"3Btf9d5pEK_U_IWJHPY0i_y-tfG0wdDqi1_Kus_xaLMp\",\"modelid\":\"20:e8603681-0fdf-41d5-962b-fcfbbf9a78ce\"\n                   ,\"url\":\"https://api.us-south.natural-language-understanding.watson.cloud.ibm.com/instances/39dc602e-52ac-4f19-8961-1018efc15855\"},\n           'ML':  {'apikey':\"KsR5UQVyfNVoMv_L22Eb5wIN1uC_skrlnS1g-FZFrHah\",\"modelid\":\"891c2c72-45a1-4c81-bb27-ed746fe4cd6f\"\n                   ,\"url\":\"https://api.us-south.natural-language-understanding.watson.cloud.ibm.com/instances/102041c7-61e3-4db8-95f7-58e897a6fb90\"}\n          }\n\n\ncred_dict_1 = {'Rule':{'apikey':\"zntJ69bXiZF9luI20hqdIbiLVlLQaeNdE1icYOlfwUL4\",\"modelid\":\"20:9c45f83c-7c13-439c-97ce-474eebf3c45b\"\n                   ,\"url\":\"https://api.us-south.natural-language-understanding.watson.cloud.ibm.com/instances/28842d9d-1ed1-48cb-af83-d64c054968fd\"},\n           'ML':  {'apikey':\"KsR5UQVyfNVoMv_L22Eb5wIN1uC_skrlnS1g-FZFrHah\",\"modelid\":\"891c2c72-45a1-4c81-bb27-ed746fe4cd6f\"\n                   ,\"url\":\"https://api.us-south.natural-language-understanding.watson.cloud.ibm.com/instances/102041c7-61e3-4db8-95f7-58e897a6fb90\"}\n          }\n\n\n### ML Model V2\n\n# apikey=\"KsR5UQVyfNVoMv_L22Eb5wIN1uC_skrlnS1g-FZFrHah\"\n# url=\"https://api.us-south.natural-language-understanding.watson.cloud.ibm.com/instances/102041c7-61e3-4db8-95f7-58e897a6fb90\"\n# modelid=\"891c2c72-45a1-4c81-bb27-ed746fe4cd6f\"\n\n\n\n\n# #### ML Model V1\n# apikey=\"KsR5UQVyfNVoMv_L22Eb5wIN1uC_skrlnS1g-FZFrHah\"\n# modelid=\"c93d2486-d7e8-4b41-a57f-49c611885ad4\"\n# url=\"https://api.us-south.natural-language-understanding.watson.cloud.ibm.com/instances/102041c7-61e3-4db8-95f7-58e897a6fb90\"\n"
        },
        {
            "cell_type": "markdown",
            "metadata": {},
            "source": "## Driver Run for ML and Rule Based Model"
        },
        {
            "cell_type": "code",
            "execution_count": 12,
            "metadata": {},
            "outputs": [
                {
                    "name": "stdout",
                    "output_type": "stream",
                    "text": "File Downloaded from Cloud Object Storage\nDone Extracting all the files\nExecuting from Response\nFile Downloaded from Cloud Object Storage\nDone Extracting all the files\nExecuting from Response\n"
                },
                {
                    "data": {
                        "text/plain": "2"
                    },
                    "execution_count": 12,
                    "metadata": {},
                    "output_type": "execute_result"
                }
            ],
            "source": "import pandas as pd\ncredentials_zip['local_name'] ='520_Final_Rule_ML_v2.csv'\n\ndataframe_list = []\n\nfor key in cred_dict.keys():\n    entity_extractor_nlu = EntityExtractorNLU(credentials_zip,apikey=cred_dict_1[key]['apikey'],modelid=cred_dict_1[key]['modelid'],\n                                              url=cred_dict_1[key]['url'])\n    entity_extractor_nlu.download_file_cos()\n    \n    entity_extractor_nlu.read_from_zip()\n    \n    responses_list=entity_extractor_nlu.sequential_read()\n    \n    result_dict = entity_extractor_nlu.get_entity_dict(response=responses_list,nlu=True)\n    \n    df = pd.DataFrame.from_dict(result_dict)\n    \n    df= df.transpose()\n    \n    columns = list(df.columns)\n    \n    columns = [each.upper() for each in columns]\n    \n    df.columns = columns\n    \n    dataframe_list.append(df)\n    \nlen(dataframe_list)\n    "
        },
        {
            "cell_type": "code",
            "execution_count": 13,
            "metadata": {},
            "outputs": [
                {
                    "data": {
                        "text/html": "<div>\n<style scoped>\n    .dataframe tbody tr th:only-of-type {\n        vertical-align: middle;\n    }\n\n    .dataframe tbody tr th {\n        vertical-align: top;\n    }\n\n    .dataframe thead th {\n        text-align: right;\n    }\n</style>\n<table border=\"1\" class=\"dataframe\">\n  <thead>\n    <tr style=\"text-align: right;\">\n      <th></th>\n      <th>AGEOFACCUSED</th>\n      <th>CASENUMBER</th>\n      <th>CHARGENUMBER</th>\n      <th>DATEOFBIRTH</th>\n      <th>DATEOFOFFENCE</th>\n      <th>DRUGTYPE1</th>\n      <th>DRUGWEIGHT1</th>\n      <th>GENDEROFACCUSED</th>\n      <th>GENERALTYPEOFOFFENCE</th>\n      <th>HSALABNUMBER1</th>\n      <th>IDENTITYNUMBER</th>\n      <th>NATIONALITY</th>\n      <th>OFFENCECONNECTOR</th>\n      <th>RELATEDDRUGTYPE</th>\n      <th>REPORTNUMBER</th>\n    </tr>\n  </thead>\n  <tbody>\n    <tr>\n      <th>0</th>\n      <td>[32 YEARS OLD]</td>\n      <td>[AG-123888-2019]</td>\n      <td>[DAC-921632-2019]</td>\n      <td>[: 03/08/1987]</td>\n      <td>[on 21 Jan 2019, on 21 January 2019]</td>\n      <td>NaN</td>\n      <td>NaN</td>\n      <td>[MALE]</td>\n      <td>[Drugs]</td>\n      <td>NaN</td>\n      <td>[S9898491J]</td>\n      <td>[SINGAPOREAN, Singapore, SINGAPORE]</td>\n      <td>[punished under, punishable under]</td>\n      <td>NaN</td>\n      <td>[G/20181101/2149]</td>\n    </tr>\n    <tr>\n      <th>1</th>\n      <td>[10 years, 32 YEARS OLD]</td>\n      <td>[AG-123888-2019]</td>\n      <td>[DAC-921628-2019]</td>\n      <td>[: 03/08/1987]</td>\n      <td>[on 01 October 2015, on 25 January 2019, on 25...</td>\n      <td>[Methamphetamine]</td>\n      <td>[16.8 grams, 24.99 grams]</td>\n      <td>[MALE]</td>\n      <td>[drug, Drug, Misuse of Drugs Act]</td>\n      <td>[ID-1932-00193-012, ID-1932-00193-014, ID-1932...</td>\n      <td>[S9898491J]</td>\n      <td>[SINGAPOREAN, SINGAPORE, Singapore]</td>\n      <td>[punishment under, punished under]</td>\n      <td>[crystalline substance]</td>\n      <td>[A/20190125/2086]</td>\n    </tr>\n    <tr>\n      <th>2</th>\n      <td>[10 years, 21 years old]</td>\n      <td>[AG-123412-2019]</td>\n      <td>[DAC-923884-2019]</td>\n      <td>[: 17/03/1998]</td>\n      <td>[on 14 February 2019]</td>\n      <td>[MDMA]</td>\n      <td>NaN</td>\n      <td>[male, MALE]</td>\n      <td>[Drugs, Drug, Misuse of Drugs Act]</td>\n      <td>[ID-1932-0035-007]</td>\n      <td>[G9898513L, S9898140J]</td>\n      <td>[MALAYSIA, Singapore, SINGAPORE]</td>\n      <td>[read with, punishable under]</td>\n      <td>NaN</td>\n      <td>[A/20190215/2006]</td>\n    </tr>\n    <tr>\n      <th>3</th>\n      <td>[20 years]</td>\n      <td>[AG-123642-2019]</td>\n      <td>[DAC-901755-2019]</td>\n      <td>[: 29 November 1969]</td>\n      <td>[on 4 September 2018]</td>\n      <td>[Diamorphine]</td>\n      <td>[451.3 grams, 5.53 grams]</td>\n      <td>[M]</td>\n      <td>[drug, Misuse of Drugs Act]</td>\n      <td>[HSA Report: ID-1832-02118]</td>\n      <td>[S9898750B, S9898456H]</td>\n      <td>[Singapore]</td>\n      <td>[read with, punishable under, read  with]</td>\n      <td>[powdery, substance, granular]</td>\n      <td>[Report No: A/20180905/2003]</td>\n    </tr>\n    <tr>\n      <th>4</th>\n      <td>[49 Years Old, 10 years]</td>\n      <td>[AG-123642-2019]</td>\n      <td>[DAC-909461-2019]</td>\n      <td>[: 29 November 1969]</td>\n      <td>NaN</td>\n      <td>[Methamphetamine]</td>\n      <td>[4.94 grams, 7.27 grams]</td>\n      <td>[Male]</td>\n      <td>[Drugs, Drug, Misuse of Drugs Act]</td>\n      <td>[ID-1832-02119-011]</td>\n      <td>[S9898750B]</td>\n      <td>[Singapore, SINGAPORE, Singaporean]</td>\n      <td>[punishable under]</td>\n      <td>[crystalline substance]</td>\n      <td>[A/20180905/2003]</td>\n    </tr>\n  </tbody>\n</table>\n</div>",
                        "text/plain": "               AGEOFACCUSED        CASENUMBER       CHARGENUMBER  \\\n0            [32 YEARS OLD]  [AG-123888-2019]  [DAC-921632-2019]   \n1  [10 years, 32 YEARS OLD]  [AG-123888-2019]  [DAC-921628-2019]   \n2  [10 years, 21 years old]  [AG-123412-2019]  [DAC-923884-2019]   \n3                [20 years]  [AG-123642-2019]  [DAC-901755-2019]   \n4  [49 Years Old, 10 years]  [AG-123642-2019]  [DAC-909461-2019]   \n\n            DATEOFBIRTH                                      DATEOFOFFENCE  \\\n0        [: 03/08/1987]               [on 21 Jan 2019, on 21 January 2019]   \n1        [: 03/08/1987]  [on 01 October 2015, on 25 January 2019, on 25...   \n2        [: 17/03/1998]                              [on 14 February 2019]   \n3  [: 29 November 1969]                              [on 4 September 2018]   \n4  [: 29 November 1969]                                                NaN   \n\n           DRUGTYPE1                DRUGWEIGHT1 GENDEROFACCUSED  \\\n0                NaN                        NaN          [MALE]   \n1  [Methamphetamine]  [16.8 grams, 24.99 grams]          [MALE]   \n2             [MDMA]                        NaN    [male, MALE]   \n3      [Diamorphine]  [451.3 grams, 5.53 grams]             [M]   \n4  [Methamphetamine]   [4.94 grams, 7.27 grams]          [Male]   \n\n                 GENERALTYPEOFOFFENCE  \\\n0                             [Drugs]   \n1   [drug, Drug, Misuse of Drugs Act]   \n2  [Drugs, Drug, Misuse of Drugs Act]   \n3         [drug, Misuse of Drugs Act]   \n4  [Drugs, Drug, Misuse of Drugs Act]   \n\n                                       HSALABNUMBER1          IDENTITYNUMBER  \\\n0                                                NaN             [S9898491J]   \n1  [ID-1932-00193-012, ID-1932-00193-014, ID-1932...             [S9898491J]   \n2                                 [ID-1932-0035-007]  [G9898513L, S9898140J]   \n3                        [HSA Report: ID-1832-02118]  [S9898750B, S9898456H]   \n4                                [ID-1832-02119-011]             [S9898750B]   \n\n                           NATIONALITY  \\\n0  [SINGAPOREAN, Singapore, SINGAPORE]   \n1  [SINGAPOREAN, SINGAPORE, Singapore]   \n2     [MALAYSIA, Singapore, SINGAPORE]   \n3                          [Singapore]   \n4  [Singapore, SINGAPORE, Singaporean]   \n\n                            OFFENCECONNECTOR                 RELATEDDRUGTYPE  \\\n0         [punished under, punishable under]                             NaN   \n1         [punishment under, punished under]         [crystalline substance]   \n2              [read with, punishable under]                             NaN   \n3  [read with, punishable under, read  with]  [powdery, substance, granular]   \n4                         [punishable under]         [crystalline substance]   \n\n                   REPORTNUMBER  \n0             [G/20181101/2149]  \n1             [A/20190125/2086]  \n2             [A/20190215/2006]  \n3  [Report No: A/20180905/2003]  \n4             [A/20180905/2003]  "
                    },
                    "execution_count": 13,
                    "metadata": {},
                    "output_type": "execute_result"
                }
            ],
            "source": "rule_df = dataframe_list[0]\nml_df = dataframe_list[1]\nrule_df.head()"
        },
        {
            "cell_type": "code",
            "execution_count": 14,
            "metadata": {},
            "outputs": [
                {
                    "data": {
                        "text/plain": "(520, 15)"
                    },
                    "execution_count": 14,
                    "metadata": {},
                    "output_type": "execute_result"
                }
            ],
            "source": "rule_df.shape"
        },
        {
            "cell_type": "code",
            "execution_count": 15,
            "metadata": {},
            "outputs": [
                {
                    "data": {
                        "text/plain": "(520, 17)"
                    },
                    "execution_count": 15,
                    "metadata": {},
                    "output_type": "execute_result"
                }
            ],
            "source": "ml_df.shape"
        },
        {
            "cell_type": "markdown",
            "metadata": {},
            "source": "### Read File from COS"
        },
        {
            "cell_type": "code",
            "execution_count": 16,
            "metadata": {},
            "outputs": [],
            "source": "# The code was removed by Watson Studio for sharing."
        },
        {
            "cell_type": "code",
            "execution_count": 17,
            "metadata": {},
            "outputs": [
                {
                    "data": {
                        "text/plain": "((520, 17), (520, 15))"
                    },
                    "execution_count": 17,
                    "metadata": {},
                    "output_type": "execute_result"
                }
            ],
            "source": "# body = client_6a1dd7bf12d24938b55e69a36c33dec7.get_object(Bucket='agcwatsonstudioproject-donotdelete-pr-oahdwlxwjnxxjn',Key='Machine_Learning_Model_520_text_nlu.csv')['Body']\n# # add missing __iter__ method, so pandas accepts body as file-like object\n# if not hasattr(body, \"__iter__\"): body.__iter__ = types.MethodType( __iter__, body )\n\n# ml_df = pd.read_csv(body)\n\nml_df_new = ml_df.copy()\nrule_df_new = rule_df.copy()\nml_df.shape,rule_df.shape"
        },
        {
            "cell_type": "code",
            "execution_count": 18,
            "metadata": {},
            "outputs": [
                {
                    "data": {
                        "text/plain": "(133, 100)"
                    },
                    "execution_count": 18,
                    "metadata": {},
                    "output_type": "execute_result"
                }
            ],
            "source": "import numpy as np\nlen(np.unique(ml_df_new['CASENUMBER'])),len(np.unique(rule_df_new['CASENUMBER']))"
        },
        {
            "cell_type": "code",
            "execution_count": 19,
            "metadata": {},
            "outputs": [
                {
                    "data": {
                        "text/plain": "(98, 98)"
                    },
                    "execution_count": 19,
                    "metadata": {},
                    "output_type": "execute_result"
                }
            ],
            "source": "ml_df_new['CASENUMBER']= ml_df_new['CASENUMBER'].apply(lambda x: sorted(x)[0])\nrule_df_new['CASENUMBER']= rule_df_new['CASENUMBER'].apply(lambda x: sorted(x)[0])\n\n# ml_df_new['CASENUMBER']= ml_df_new['CASENUMBER'].apply(lambda x:x[0])\n#rule_df_new['CASENUMBER']= rule_df_new['CASENUMBER'].apply(lambda x:x[0])\n#ml_df = ml_df.sort_values(by='CASENUMBER')\nlen(np.unique(ml_df_new['CASENUMBER'])),len(np.unique(rule_df_new['CASENUMBER']))\n#set(np.unique(ml_df_new['CASENUMBER'])) - set(np.unique(rule_df_new['CASENUMBER']))"
        },
        {
            "cell_type": "code",
            "execution_count": 20,
            "metadata": {},
            "outputs": [
                {
                    "data": {
                        "text/plain": "((520, 4), (520, 15))"
                    },
                    "execution_count": 20,
                    "metadata": {},
                    "output_type": "execute_result"
                }
            ],
            "source": "ml_cols = ['CASENUMBER','FIRSTPARTOFOFFENCE','OFFENCECONNECTOR','SECONDPARTOFOFFENCE']\ndiff_cols = ['FIRSTPARTOFOFFENCE','OFFENCECONNECTOR','SECONDPARTOFOFFENCE']\nml_residual = ml_df_new[ml_cols]\n\n#ml_df_new['CASENUMBER']= ml_df_new['CASENUMBER'].apply(lambda x: x[0])\n# ml_df_new = ml_df_new.apply(lambda x: tuple(set(x)))\n# ml_df_new = ml_df_new.apply(lambda x: x[0] if len(x) ==1 else x)\nml_residual.shape,rule_df_new.shape"
        },
        {
            "cell_type": "code",
            "execution_count": 21,
            "metadata": {},
            "outputs": [],
            "source": "# test= pd.concat([ml_df_new['CASENUMBER'].value_counts(),rule_df_new['CASENUMBER'].value_counts()],axis=1,names=['ML_CASE','RULE_CASE'])\n# test.columns = ['ML_CASE','RULE_CASE']\n# test['ML_CASE'].astype(float)\n# test['RULE_CASE'].astype(float)\n# test['DIFF'] = test['RULE_CASE'].equals(test['ML_CASE'])\n# test['DIFF'].value_counts()"
        },
        {
            "cell_type": "code",
            "execution_count": 22,
            "metadata": {},
            "outputs": [
                {
                    "data": {
                        "text/html": "<div>\n<style scoped>\n    .dataframe tbody tr th:only-of-type {\n        vertical-align: middle;\n    }\n\n    .dataframe tbody tr th {\n        vertical-align: top;\n    }\n\n    .dataframe thead th {\n        text-align: right;\n    }\n</style>\n<table border=\"1\" class=\"dataframe\">\n  <thead>\n    <tr style=\"text-align: right;\">\n      <th></th>\n      <th>AGEOFACCUSED</th>\n      <th>CASENUMBER</th>\n      <th>CHARGENUMBER</th>\n      <th>DATEOFBIRTH</th>\n      <th>DATEOFOFFENCE</th>\n      <th>DRUGTYPE1</th>\n      <th>DRUGWEIGHT1</th>\n      <th>FIRSTPARTOFOFFENCE</th>\n      <th>GENDEROFACCUSED</th>\n      <th>GENERALTYPEOFOFFENCE</th>\n      <th>HSALABNUMBER1</th>\n      <th>IDENTITYNUMBER</th>\n      <th>NATIONALITY</th>\n      <th>OFFENCECONNECTOR</th>\n      <th>RELATEDDRUGTYPE</th>\n      <th>REPORTNUMBER</th>\n      <th>SECONDPARTOFOFFENCE</th>\n    </tr>\n  </thead>\n  <tbody>\n    <tr>\n      <th>0</th>\n      <td>[32 YEARS OLD]</td>\n      <td>AG-123888-2019</td>\n      <td>[DAC-921632-2019, DAC-921632-2019]</td>\n      <td>[: 03/08/1987]</td>\n      <td>[on 21 Jan 2019, on 21 January 2019]</td>\n      <td>NaN</td>\n      <td>NaN</td>\n      <td>[committed an\\noffence under regulation 15(3)(...</td>\n      <td>[MALE]</td>\n      <td>[Drugs]</td>\n      <td>NaN</td>\n      <td>[S9898491J]</td>\n      <td>[Singapore, SINGAPOREAN, SINGAPORE]</td>\n      <td>[punished under, punishable under]</td>\n      <td>NaN</td>\n      <td>[G/20181101/2149]</td>\n      <td>[regulation 15(6)\\n(a) of the Misuse of Drugs]</td>\n    </tr>\n    <tr>\n      <th>1</th>\n      <td>[32 YEARS OLD, 10 years]</td>\n      <td>AG-123888-2019</td>\n      <td>[DAC-921628-2019, DAC-921628-2019]</td>\n      <td>[: 03/08/1987]</td>\n      <td>[on 25 Jan 2019, on 25 January 2019, on 01 Oct...</td>\n      <td>[Methamphetamine, Methamphetamine]</td>\n      <td>[16.8 grams, 24.99 grams]</td>\n      <td>[committed an offence under s 8(a) of the Misu...</td>\n      <td>[MALE]</td>\n      <td>[drug, drug, Misuse of Drugs Act, Misuse of Dr...</td>\n      <td>[ID-1932-00193-013, ID-1932-00193-014, ID-1932...</td>\n      <td>[S9898491J]</td>\n      <td>[SINGAPOREAN, SINGAPORE, Singapore]</td>\n      <td>[punished under, punished under, punishment un...</td>\n      <td>[crystalline substance]</td>\n      <td>[A/20190125/2086]</td>\n      <td>[s 33(1)\\nof the said Act, s 33(1) of the Misu...</td>\n    </tr>\n    <tr>\n      <th>2</th>\n      <td>[10 years, 21 years]</td>\n      <td>AG-123412-2019</td>\n      <td>[DAC-923884-2019]</td>\n      <td>[: 17/03/1998]</td>\n      <td>[on 14 February 2019]</td>\n      <td>NaN</td>\n      <td>[2.69 gram]</td>\n      <td>[committed an offence under Section 8(a)]</td>\n      <td>[male, MALE/20]</td>\n      <td>[Drug, Misuse of Drugs Act]</td>\n      <td>NaN</td>\n      <td>[G9898513L, S9898140J]</td>\n      <td>[SINGAPORE, Singapore]</td>\n      <td>[read with, punishable under]</td>\n      <td>NaN</td>\n      <td>[A/20190215/2006]</td>\n      <td>[Section 33(1) of the said Act, Section 18(4) ...</td>\n    </tr>\n    <tr>\n      <th>3</th>\n      <td>[20 years]</td>\n      <td>AG-123642-2019</td>\n      <td>[DAC-901755-2019]</td>\n      <td>[: 29 November 1969]</td>\n      <td>[on 4 September 2018]</td>\n      <td>[Diamorphine]</td>\n      <td>[451.3 grams, 5.53 grams]</td>\n      <td>[committed an \\noffence under Section 5(1)(a)]</td>\n      <td>[M/48]</td>\n      <td>[drug, Misuse of Drugs Act]</td>\n      <td>[ID-1832-02118-006]</td>\n      <td>[S9898456H, S9898750B]</td>\n      <td>[Singapore, Singapore]</td>\n      <td>[read with, punishable under, read  with]</td>\n      <td>[powdery, granular, substance]</td>\n      <td>[Report No: A/20180905/2003]</td>\n      <td>[section  34  of  the  Penal  Code, Section 5(...</td>\n    </tr>\n    <tr>\n      <th>4</th>\n      <td>[10 years]</td>\n      <td>AG-123642-2019</td>\n      <td>[DAC-909461-2019]</td>\n      <td>[: 29 November 1969]</td>\n      <td>[on  4  September  2018]</td>\n      <td>[Methamphetamine]</td>\n      <td>[4.94 grams, 7.27 grams]</td>\n      <td>[committed an offence under Section 8(a)]</td>\n      <td>[Male]</td>\n      <td>[Drug, Misuse of Drugs Act]</td>\n      <td>NaN</td>\n      <td>[S9898750B]</td>\n      <td>[SINGAPORE, Singapore, Singaporean]</td>\n      <td>[punishable under]</td>\n      <td>[crystalline substance]</td>\n      <td>[A/20180905/2003, ID-1832-02119-011/003]</td>\n      <td>[Section 33(1) of the Misuse of \\nDrugs Act]</td>\n    </tr>\n  </tbody>\n</table>\n</div>",
                        "text/plain": "               AGEOFACCUSED      CASENUMBER  \\\n0            [32 YEARS OLD]  AG-123888-2019   \n1  [32 YEARS OLD, 10 years]  AG-123888-2019   \n2      [10 years, 21 years]  AG-123412-2019   \n3                [20 years]  AG-123642-2019   \n4                [10 years]  AG-123642-2019   \n\n                         CHARGENUMBER           DATEOFBIRTH  \\\n0  [DAC-921632-2019, DAC-921632-2019]        [: 03/08/1987]   \n1  [DAC-921628-2019, DAC-921628-2019]        [: 03/08/1987]   \n2                   [DAC-923884-2019]        [: 17/03/1998]   \n3                   [DAC-901755-2019]  [: 29 November 1969]   \n4                   [DAC-909461-2019]  [: 29 November 1969]   \n\n                                       DATEOFOFFENCE  \\\n0               [on 21 Jan 2019, on 21 January 2019]   \n1  [on 25 Jan 2019, on 25 January 2019, on 01 Oct...   \n2                              [on 14 February 2019]   \n3                              [on 4 September 2018]   \n4                           [on  4  September  2018]   \n\n                            DRUGTYPE1                DRUGWEIGHT1  \\\n0                                 NaN                        NaN   \n1  [Methamphetamine, Methamphetamine]  [16.8 grams, 24.99 grams]   \n2                                 NaN                [2.69 gram]   \n3                       [Diamorphine]  [451.3 grams, 5.53 grams]   \n4                   [Methamphetamine]   [4.94 grams, 7.27 grams]   \n\n                                  FIRSTPARTOFOFFENCE  GENDEROFACCUSED  \\\n0  [committed an\\noffence under regulation 15(3)(...           [MALE]   \n1  [committed an offence under s 8(a) of the Misu...           [MALE]   \n2          [committed an offence under Section 8(a)]  [male, MALE/20]   \n3     [committed an \\noffence under Section 5(1)(a)]           [M/48]   \n4          [committed an offence under Section 8(a)]           [Male]   \n\n                                GENERALTYPEOFOFFENCE  \\\n0                                            [Drugs]   \n1  [drug, drug, Misuse of Drugs Act, Misuse of Dr...   \n2                        [Drug, Misuse of Drugs Act]   \n3                        [drug, Misuse of Drugs Act]   \n4                        [Drug, Misuse of Drugs Act]   \n\n                                       HSALABNUMBER1          IDENTITYNUMBER  \\\n0                                                NaN             [S9898491J]   \n1  [ID-1932-00193-013, ID-1932-00193-014, ID-1932...             [S9898491J]   \n2                                                NaN  [G9898513L, S9898140J]   \n3                                [ID-1832-02118-006]  [S9898456H, S9898750B]   \n4                                                NaN             [S9898750B]   \n\n                           NATIONALITY  \\\n0  [Singapore, SINGAPOREAN, SINGAPORE]   \n1  [SINGAPOREAN, SINGAPORE, Singapore]   \n2               [SINGAPORE, Singapore]   \n3               [Singapore, Singapore]   \n4  [SINGAPORE, Singapore, Singaporean]   \n\n                                    OFFENCECONNECTOR  \\\n0                 [punished under, punishable under]   \n1  [punished under, punished under, punishment un...   \n2                      [read with, punishable under]   \n3          [read with, punishable under, read  with]   \n4                                 [punishable under]   \n\n                  RELATEDDRUGTYPE                              REPORTNUMBER  \\\n0                             NaN                         [G/20181101/2149]   \n1         [crystalline substance]                         [A/20190125/2086]   \n2                             NaN                         [A/20190215/2006]   \n3  [powdery, granular, substance]              [Report No: A/20180905/2003]   \n4         [crystalline substance]  [A/20180905/2003, ID-1832-02119-011/003]   \n\n                                 SECONDPARTOFOFFENCE  \n0     [regulation 15(6)\\n(a) of the Misuse of Drugs]  \n1  [s 33(1)\\nof the said Act, s 33(1) of the Misu...  \n2  [Section 33(1) of the said Act, Section 18(4) ...  \n3  [section  34  of  the  Penal  Code, Section 5(...  \n4       [Section 33(1) of the Misuse of \\nDrugs Act]  "
                    },
                    "execution_count": 22,
                    "metadata": {},
                    "output_type": "execute_result"
                }
            ],
            "source": "ml_df_new.head()"
        },
        {
            "cell_type": "code",
            "execution_count": 23,
            "metadata": {},
            "outputs": [
                {
                    "data": {
                        "text/plain": "<matplotlib.axes._subplots.AxesSubplot at 0x7f92f7cf3ba8>"
                    },
                    "execution_count": 23,
                    "metadata": {},
                    "output_type": "execute_result"
                },
                {
                    "data": {
                        "image/png": "[encoded data removed]",
                        "text/plain": "<Figure size 1080x720 with 1 Axes>"
                    },
                    "metadata": {
                        "needs_background": "light"
                    },
                    "output_type": "display_data"
                }
            ],
            "source": "%matplotlib inline\nimport matplotlib\nimport matplotlib.pyplot as plt\nfig = plt.figure(figsize=(15,10))\nplt.rcParams['ytick.labelsize'] = 10\nplt.rcParams['xtick.labelsize'] = 5\nplt.tight_layout()\nplt.title(\"AGC Occurences Plot\")\nplt.xlabel(\"AGC Number\")\nplt.ylabel(\"Frequency\")\nml_df_new['CASENUMBER'].value_counts().plot(kind=\"bar\")"
        },
        {
            "cell_type": "code",
            "execution_count": 151,
            "metadata": {},
            "outputs": [
                {
                    "name": "stdout",
                    "output_type": "stream",
                    "text": "(520, 18)\n"
                }
            ],
            "source": "temp1 = ml_df_new.copy()\ntemp2 = rule_df_new.copy()\ntemp2 = temp2.drop(['OFFENCECONNECTOR'],axis=1)\n\nml_residual.columns = [\"CASENUMBERS\",\"FIRSTPARTOFOFFENCE\",\"OFFENCECONNECTOR\",\"SECONDPARTOFOFFENCE\"]\ntemp4 = ml_residual.reset_index(drop=True)\ntemp3 = temp2.reset_index(drop=True)\n\n#temp4 = temp3.merge(temp1,on='CASENUMBER',how='inner')\ntemp3 = pd.concat([ml_residual.reset_index(drop=True),temp2.reset_index(drop=True)], axis=1)\n\nprint(temp3.shape)\n#print(temp4.shape)\n\ntemp3.head()\n#temp4.tail()\n\n\ntemp4= temp3.copy()"
        },
        {
            "cell_type": "code",
            "execution_count": 152,
            "metadata": {},
            "outputs": [
                {
                    "data": {
                        "text/plain": "True    520\nName: DIFF, dtype: int64"
                    },
                    "execution_count": 152,
                    "metadata": {},
                    "output_type": "execute_result"
                }
            ],
            "source": "temp3['CASENUMBERS'] = temp3['CASENUMBERS'].apply(lambda x:x.strip().replace(\" \",''))\ntemp3['CASENUMBER'] = temp3['CASENUMBER'].apply(lambda x:x.strip().replace(\" \",''))\n#temp3['DIFF'] = \ntemp3['DIFF'] = temp3.apply(lambda x :True if x['CASENUMBER'] == x['CASENUMBERS'] else False, axis=1)\ntemp3['DIFF'].value_counts()\n#temp3[temp3['DIFF']==False]"
        },
        {
            "cell_type": "code",
            "execution_count": 153,
            "metadata": {},
            "outputs": [],
            "source": "temp3.drop(['CASENUMBER'],axis=1,inplace=True)\ntemp3.rename(columns = {'CASENUMBERS':'CASENUMBER'}, inplace = True)\ntemp3 = temp3.replace(np.nan,\"\")\n#temp3 = temp3.replace(\"None\",'')\n#temp3.head()"
        },
        {
            "cell_type": "code",
            "execution_count": 154,
            "metadata": {},
            "outputs": [],
            "source": "#temp3[temp3.CHARGENUMBER==\"DAC-922516-2018\"]"
        },
        {
            "cell_type": "markdown",
            "metadata": {},
            "source": "### Cleaning Process"
        },
        {
            "cell_type": "code",
            "execution_count": 155,
            "metadata": {
                "scrolled": true
            },
            "outputs": [
                {
                    "data": {
                        "text/html": "<div>\n<style scoped>\n    .dataframe tbody tr th:only-of-type {\n        vertical-align: middle;\n    }\n\n    .dataframe tbody tr th {\n        vertical-align: top;\n    }\n\n    .dataframe thead th {\n        text-align: right;\n    }\n</style>\n<table border=\"1\" class=\"dataframe\">\n  <thead>\n    <tr style=\"text-align: right;\">\n      <th></th>\n      <th>Casenumber</th>\n      <th>Firstpartofoffence</th>\n      <th>Offenceconnector</th>\n      <th>Secondpartofoffence</th>\n      <th>Ageofaccused</th>\n      <th>Chargenumber</th>\n      <th>Dateofbirth</th>\n      <th>Dateofoffence</th>\n      <th>Drugtype1</th>\n      <th>Drugweight1</th>\n      <th>Genderofaccused</th>\n      <th>Generaltypeofoffence</th>\n      <th>Hsalabnumber1</th>\n      <th>Identitynumber</th>\n      <th>Nationality</th>\n      <th>Relateddrugtype</th>\n      <th>Reportnumber</th>\n      <th>Full offence</th>\n    </tr>\n  </thead>\n  <tbody>\n    <tr>\n      <th>0</th>\n      <td>AG-123888-2019</td>\n      <td>committed an\\noffence under regulation 15(3)(f...</td>\n      <td>[punished under, punishable under]</td>\n      <td>regulation 15(6)\\n(a) of the Misuse of Drugs</td>\n      <td>32 YEARS OLD</td>\n      <td>DAC-921632-2019</td>\n      <td>03/08/1987</td>\n      <td>21 Jan 2019</td>\n      <td></td>\n      <td>None</td>\n      <td>Male</td>\n      <td>Drug</td>\n      <td></td>\n      <td>S9898491J</td>\n      <td>Singapore</td>\n      <td></td>\n      <td>G/20181101/2149</td>\n      <td>committed anoffence under regulation 15(3)(f) ...</td>\n    </tr>\n    <tr>\n      <th>1</th>\n      <td>AG-123888-2019</td>\n      <td>committed an offence under s 8(a) of the Misus...</td>\n      <td>[punished under, punished under, punishment un...</td>\n      <td>[s 33(1)\\nof the said Act, s 33(1) of the Misu...</td>\n      <td>32 YEARS OLD</td>\n      <td>DAC-921628-2019</td>\n      <td>03/08/1987</td>\n      <td>01 October 2015</td>\n      <td>Methamphetamine</td>\n      <td>16.8 grams</td>\n      <td>Male</td>\n      <td>Drug</td>\n      <td>ID-1932-00193-012</td>\n      <td>S9898491J</td>\n      <td>Singapore</td>\n      <td>[crystalline substance]</td>\n      <td>A/20190125/2086</td>\n      <td>committed an offence under s 8(a) of the Misus...</td>\n    </tr>\n    <tr>\n      <th>2</th>\n      <td>AG-123412-2019</td>\n      <td>committed an offence under Section 8(a)</td>\n      <td>[read with, punishable under]</td>\n      <td>[Section 33(1) of the said Act, Section 18(4) ...</td>\n      <td>21 years old</td>\n      <td>DAC-923884-2019</td>\n      <td>17/03/1998</td>\n      <td>14 February 2019</td>\n      <td>MDMA</td>\n      <td>None</td>\n      <td>Male</td>\n      <td>Drug</td>\n      <td>ID-1932-0035-007</td>\n      <td>G9898513L</td>\n      <td>Malaysia</td>\n      <td></td>\n      <td>A/20190215/2006</td>\n      <td>committed an offence under Section 8(a) read w...</td>\n    </tr>\n    <tr>\n      <th>3</th>\n      <td>AG-123642-2019</td>\n      <td>committed an \\noffence under Section 5(1)(a)</td>\n      <td>[read with, punishable under, read  with]</td>\n      <td>[section  34  of  the  Penal  Code, Section 5(...</td>\n      <td>None</td>\n      <td>DAC-901755-2019</td>\n      <td>29November1969</td>\n      <td>4 September 2018</td>\n      <td>Diamorphine</td>\n      <td>5.53 grams</td>\n      <td>Male</td>\n      <td>Drug</td>\n      <td>HSA Report: ID-1832-02118</td>\n      <td>S9898750B</td>\n      <td>Singapore</td>\n      <td>[powdery, substance, granular]</td>\n      <td>A/20180905/2003</td>\n      <td>committed an offence under Section 5(1)(a) rea...</td>\n    </tr>\n    <tr>\n      <th>4</th>\n      <td>AG-123642-2019</td>\n      <td>committed an offence under Section 8(a)</td>\n      <td>punishable under</td>\n      <td>Section 33(1) of the Misuse of \\nDrugs Act</td>\n      <td>49 Years Old</td>\n      <td>DAC-909461-2019</td>\n      <td>29November1969</td>\n      <td></td>\n      <td>Methamphetamine</td>\n      <td>4.94 grams</td>\n      <td>Male</td>\n      <td>Drug</td>\n      <td>ID-1832-02119-011</td>\n      <td>S9898750B</td>\n      <td>Singapore</td>\n      <td>[crystalline substance]</td>\n      <td>A/20180905/2003</td>\n      <td>committed an offence under Section 8(a) punish...</td>\n    </tr>\n  </tbody>\n</table>\n</div>",
                        "text/plain": "       Casenumber                                 Firstpartofoffence  \\\n0  AG-123888-2019  committed an\\noffence under regulation 15(3)(f...   \n1  AG-123888-2019  committed an offence under s 8(a) of the Misus...   \n2  AG-123412-2019            committed an offence under Section 8(a)   \n3  AG-123642-2019       committed an \\noffence under Section 5(1)(a)   \n4  AG-123642-2019            committed an offence under Section 8(a)   \n\n                                    Offenceconnector  \\\n0                 [punished under, punishable under]   \n1  [punished under, punished under, punishment un...   \n2                      [read with, punishable under]   \n3          [read with, punishable under, read  with]   \n4                                   punishable under   \n\n                                 Secondpartofoffence  Ageofaccused  \\\n0       regulation 15(6)\\n(a) of the Misuse of Drugs  32 YEARS OLD   \n1  [s 33(1)\\nof the said Act, s 33(1) of the Misu...  32 YEARS OLD   \n2  [Section 33(1) of the said Act, Section 18(4) ...  21 years old   \n3  [section  34  of  the  Penal  Code, Section 5(...          None   \n4         Section 33(1) of the Misuse of \\nDrugs Act  49 Years Old   \n\n      Chargenumber     Dateofbirth     Dateofoffence        Drugtype1  \\\n0  DAC-921632-2019      03/08/1987       21 Jan 2019                    \n1  DAC-921628-2019      03/08/1987   01 October 2015  Methamphetamine   \n2  DAC-923884-2019      17/03/1998  14 February 2019             MDMA   \n3  DAC-901755-2019  29November1969  4 September 2018      Diamorphine   \n4  DAC-909461-2019  29November1969                    Methamphetamine   \n\n  Drugweight1 Genderofaccused Generaltypeofoffence              Hsalabnumber1  \\\n0        None            Male                 Drug                              \n1  16.8 grams            Male                 Drug          ID-1932-00193-012   \n2        None            Male                 Drug           ID-1932-0035-007   \n3  5.53 grams            Male                 Drug  HSA Report: ID-1832-02118   \n4  4.94 grams            Male                 Drug          ID-1832-02119-011   \n\n  Identitynumber Nationality                 Relateddrugtype     Reportnumber  \\\n0      S9898491J   Singapore                                  G/20181101/2149   \n1      S9898491J   Singapore         [crystalline substance]  A/20190125/2086   \n2      G9898513L    Malaysia                                  A/20190215/2006   \n3      S9898750B   Singapore  [powdery, substance, granular]  A/20180905/2003   \n4      S9898750B   Singapore         [crystalline substance]  A/20180905/2003   \n\n                                        Full offence  \n0  committed anoffence under regulation 15(3)(f) ...  \n1  committed an offence under s 8(a) of the Misus...  \n2  committed an offence under Section 8(a) read w...  \n3  committed an offence under Section 5(1)(a) rea...  \n4  committed an offence under Section 8(a) punish...  "
                    },
                    "execution_count": 155,
                    "metadata": {},
                    "output_type": "execute_result"
                }
            ],
            "source": "%matplotlib inline\ndef age_filter(age_list):\n    for each in age_list:\n        if \"old\" in each.lower().strip():\n            return each\n        \ndef gender_filter(age):\n    dicts = {\"M\":\"Male\",'F':\"Female\"}\n    age = age[0].upper()\n    if age.upper() in ['MALE','FEMALE']:\n        return age.capitalize()\n    elif age.upper() in ['M','F']:\n        return dicts[age.upper()]\n    \n    \ndef dof_filter(date):\n    if len(date)>=1 and type(date)==list:\n        date = date[0]\n        s= date.split()\n        return \" \".join(s[-3:])\n    else:\n        return \"\"\n    \ndef nationality_filter(nationality):\n    dicts = {'Indian':\"India\",'Singaporean':\"Singapore\",'Malaysian':\"Malaysia\",'Vietnamese':\"Vietanam\"}\n    if type(nationality) == list:\n        nationality = nationality[0].capitalize()\n        if nationality in dicts.keys():\n            return dicts[nationality]\n        else:\n            return nationality   \n        \n        \ndef general_type_offence(offence):\n    for each in offence:\n        if \"hurt\" in each.lower().strip():\n            return \"Hurt\"\n        elif 'drug' in each.lower().strip():\n            return \"Drug\"\n    return \"Others\"\n\n\n\ndef weight_select_final(weights):\n    try:\n        if len(weights)>0:\n            import re\n            final = []\n            lists =[]\n            for weight in weights:\n                weight= weight.lower().replace(\" \",'')\n                if \"g\" in weight:\n                    lists.append(weight)\n            for each in lists:\n                final.append(float(\".\".join(re.findall(r'\\d+', str(each)))))\n\n            return str(min(final))+\" \"+ \"grams\"\n    except Exception as e:\n        return weights\n        #print(weights)\n\ndef full_offence_create(lst): \n    global result1\n    result1 =\"\"\n    global result2\n    result2 =\"\"\n    global result3\n    result3 =\"\"\n    try:\n        #lst =[s,r,t]\n        l1=[]\n        l2=[]\n        l3=[]\n        if type(lst) == list:\n            for each in lst:\n                try:\n                    #each[0] =each.remove(\"\\n\")\n                    l1.append(each[0].replace(\"\\n\",\"\").replace(\"\\t\",\"\"))\n                    l2.append(each[1].replace(\"\\n\",\"\").replace(\"\\t\",\"\"))\n                    l3.append(each[2].replace(\"\\n\",\"\").replace(\"\\t\",\"\"))\n                except Exception as e:\n                    pass\n                \n        if len(l1)!= 0:\n            result1 = \" \".join(l1)\n        if len(l2)!= 0:\n            result2 = \" \".join(l2)\n        if len(l2)!= 0:\n            result3 = \" \".join(l3)\n\n        return result1+\" \"+result2+\" \"+result3\n        \n    except Exception as e:\n        print(e)\n        pass\n    \ncols = [\"IDENTITYNUMBER\",\"NATIONALITY\",'REPORTNUMBER']        \n        \ntemp3['GENERALTYPEOFOFFENCE'] = temp3['GENERALTYPEOFOFFENCE'].apply(general_type_offence)\ntemp3['CHARGENUMBER'] = temp3['CHARGENUMBER'].apply(lambda x: x[0] if type(x)==list and len(x)==1 else x)\ntemp3['AGEOFACCUSED'] = temp3['AGEOFACCUSED'].apply(age_filter)\ntemp3['GENDEROFACCUSED'] = temp3['GENDEROFACCUSED'].apply(gender_filter)\ntemp3['DATEOFBIRTH'] = temp3[\"DATEOFBIRTH\"].apply(lambda x: x[0].replace(\" \",'').split(\":\")[1] if type(x)==list else x)\ntemp3['DATEOFOFFENCE'] = temp3[\"DATEOFOFFENCE\"].apply(dof_filter)\ntemp3[\"IDENTITYNUMBER\"] = temp3[\"IDENTITYNUMBER\"].apply(lambda x: x[0] if type(x) == list else x)\n#temp3[\"NATIONALITY\"] = temp3[\"NATIONALITY\"].apply(lambda x: x[0].capitalize() if type(x) == list else x)\ntemp3[\"NATIONALITY\"] = temp3[\"NATIONALITY\"].apply(nationality_filter)\ntemp3[\"REPORTNUMBER\"] = temp3[\"REPORTNUMBER\"].apply(lambda x: x[0] if type(x) == list else x)\ntemp3[\"DRUGTYPE1\"] = temp3[\"DRUGTYPE1\"].apply(lambda x: x[0] if type(x) == list else x)\ntemp3['HSALABNUMBER1'] = temp3['HSALABNUMBER1'].apply(lambda x:x[0] if type(x)==list else x)\ntemp3['REPORTNUMBER'] = temp3['REPORTNUMBER'].apply(lambda x:x.split()[-1] if len(x)>1 else x)\n\ntemp3['combined']= temp3[[\"FIRSTPARTOFOFFENCE\",\"OFFENCECONNECTOR\",\"SECONDPARTOFOFFENCE\"]].values.tolist()\ntemp3['Full Offence'] = temp3['combined'].apply(full_offence_create)\n#temp3['DRUGWEIGHT1'] = temp3['DRUGWEIGHT1'].apply(lambda x:min(x) if len(x)!=0 and \"g\" in min(x) else x)\n\n#temp3['DRUGWEIGHT1'] = temp3['DRUGWEIGHT1'].apply(lambda x:min(x) if len(x)>0 else x)\n\ntemp3['DRUGWEIGHT1'] = temp3['DRUGWEIGHT1'].apply(weight_select_final)\ntemp3['FIRSTPARTOFOFFENCE'] = temp3['FIRSTPARTOFOFFENCE'].apply(lambda x:x[0] if type(x)==list and len(x)==1 else x)\ntemp3['OFFENCECONNECTOR'] = temp3['OFFENCECONNECTOR'].apply(lambda x:x[0] if type(x)==list and len(x)==1 else x)\ntemp3['SECONDPARTOFOFFENCE'] = temp3['SECONDPARTOFOFFENCE'].apply(lambda x:x[0] if type(x)==list and len(x)==1 else x)\n\ntemp3.drop(['DIFF','combined'],axis=1,inplace=True)\n#temp3.drop(['DIFF'],axis=1,inplace=True)\n\ncolumns = [each.capitalize() for each in list(temp3.columns)]\ntemp3.columns = columns\n\ntemp3.head()"
        },
        {
            "cell_type": "code",
            "execution_count": 156,
            "metadata": {},
            "outputs": [
                {
                    "data": {
                        "text/plain": "366"
                    },
                    "execution_count": 156,
                    "metadata": {},
                    "output_type": "execute_result"
                }
            ],
            "source": "temp3['Drugweight1'].isna().sum()"
        },
        {
            "cell_type": "code",
            "execution_count": 157,
            "metadata": {},
            "outputs": [
                {
                    "data": {
                        "text/plain": "366"
                    },
                    "execution_count": 157,
                    "metadata": {},
                    "output_type": "execute_result"
                }
            ],
            "source": "temp4['DRUGWEIGHT1'].isna().sum()"
        },
        {
            "cell_type": "code",
            "execution_count": 1,
            "metadata": {},
            "outputs": [
                {
                    "ename": "NameError",
                    "evalue": "name 'temp3' is not defined",
                    "output_type": "error",
                    "traceback": [
                        "\u001b[0;31m---------------------------------------------------------------------------\u001b[0m",
                        "\u001b[0;31mNameError\u001b[0m                                 Traceback (most recent call last)",
                        "\u001b[0;32m<ipython-input-1-59a6d661b061>\u001b[0m in \u001b[0;36m<module>\u001b[0;34m\u001b[0m\n\u001b[0;32m----> 1\u001b[0;31m \u001b[0mtemp3\u001b[0m\u001b[0;34m[\u001b[0m\u001b[0;34m'Drugweight1'\u001b[0m\u001b[0;34m]\u001b[0m\u001b[0;34m.\u001b[0m\u001b[0mtail\u001b[0m\u001b[0;34m(\u001b[0m\u001b[0;36m23\u001b[0m\u001b[0;34m)\u001b[0m\u001b[0;34m\u001b[0m\u001b[0;34m\u001b[0m\u001b[0m\n\u001b[0m",
                        "\u001b[0;31mNameError\u001b[0m: name 'temp3' is not defined"
                    ]
                }
            ],
            "source": "temp3['Drugweight1'].tail(23)"
        },
        {
            "cell_type": "code",
            "execution_count": 158,
            "metadata": {},
            "outputs": [
                {
                    "data": {
                        "text/plain": "Casenumber                0\nFirstpartofoffence       30\nOffenceconnector         14\nSecondpartofoffence      93\nAgeofaccused            147\nChargenumber              1\nDateofbirth             102\nDateofoffence           113\nDrugtype1               248\nDrugweight1             366\nGenderofaccused           0\nGeneraltypeofoffence      0\nHsalabnumber1           289\nIdentitynumber            3\nNationality               1\nRelateddrugtype         352\nReportnumber            164\nFull offence              0\ndtype: int64"
                    },
                    "execution_count": 158,
                    "metadata": {},
                    "output_type": "execute_result"
                }
            ],
            "source": "temp3.replace(\"\",np.nan).isna().sum()"
        },
        {
            "cell_type": "code",
            "execution_count": null,
            "metadata": {},
            "outputs": [],
            "source": ""
        },
        {
            "cell_type": "markdown",
            "metadata": {},
            "source": "## Save the File to COS"
        },
        {
            "cell_type": "code",
            "execution_count": 160,
            "metadata": {},
            "outputs": [],
            "source": "!rm -rf *.csv *.txt"
        },
        {
            "cell_type": "code",
            "execution_count": 161,
            "metadata": {},
            "outputs": [
                {
                    "name": "stdout",
                    "output_type": "stream",
                    "text": "File Uploaded to Cloud Object Storage\n"
                }
            ],
            "source": "temp3.to_csv(\"520_Final_Rule_ML_v2.csv\",index=False)\nentity_extractor_nlu.upload_file_cos()"
        },
        {
            "cell_type": "code",
            "execution_count": 162,
            "metadata": {},
            "outputs": [
                {
                    "name": "stdout",
                    "output_type": "stream",
                    "text": "520_Final_Rule_ML_v2.csv  __MACOSX\r\n"
                }
            ],
            "source": "!ls"
        },
        {
            "cell_type": "code",
            "execution_count": null,
            "metadata": {},
            "outputs": [],
            "source": ""
        }
    ],
    "metadata": {
        "kernelspec": {
            "display_name": "Python 3.6",
            "language": "python",
            "name": "python3"
        },
        "language_info": {
            "codemirror_mode": {
                "name": "ipython",
                "version": 3
            },
            "file_extension": ".py",
            "mimetype": "text/x-python",
            "name": "python",
            "nbconvert_exporter": "python",
            "pygments_lexer": "ipython3",
            "version": "3.6.9"
        }
    },
    "nbformat": 4,
    "nbformat_minor": 1
}